{
 "cells": [
  {
   "cell_type": "code",
   "execution_count": 5,
   "metadata": {},
   "outputs": [],
   "source": [
    "import json\n",
    "import re\n",
    "import json\n",
    "import matplotlib.pyplot as plt\n",
    "import pandas as pd"
   ]
  },
  {
   "cell_type": "markdown",
   "metadata": {},
   "source": [
    "Сначала загрузим датасет и переформатируем его для удобства работы с ним."
   ]
  },
  {
   "cell_type": "code",
   "execution_count": 3,
   "metadata": {},
   "outputs": [
    {
     "data": {
      "text/plain": [
       "{'context': ' Но люди не могут существовать без природы, поэтому в парке стояли железобетонные скамейки — деревянные моментально ломали.  В парке бегали ребятишки, водилась шпана, которая развлекалась игрой в карты, пьянкой, драками, «иногда насмерть».  «Имали они тут и девок...»  Верховодил шпаной Артемка-мыло, с вспененной белой головой.  Людочка сколько ни пыталась усмирить лохмотья на буйной голове Артемки, ничего у неё не получалось.  Его «кудри, издали напоминавшие мыльную пену, изблизя оказались что липкие рожки из вокзальной столовой — сварили их, бросили комком в пустую тарелку, так они, слипшиеся, неподъёмно и лежали.  Да и не ради причёски приходил парень к Людочке.  Как только её руки становились занятыми ножницами и расчёской, Артемка начинал хватать её за разные места.  Людочка сначала увёртывалась от хватких рук Артемки, а когда не помогло, стукнула его машинкой по голове и пробила до крови, пришлось лить йод на голову «ухажористого человека».  Артемка заулюлюкал и со свистом стал ловить воздух.  С тех пор «домогания свои хулиганские прекратил», более того, шпане повелел Людочку не трогать.',\n",
       " 'question': 'Где бегала шпана?',\n",
       " 'answers': ['В парке.', 'В лесу.', 'Около подъезда.'],\n",
       " 'labels': [1, 0, 0]}"
      ]
     },
     "execution_count": 3,
     "metadata": {},
     "output_type": "execute_result"
    }
   ],
   "source": [
    "# load train dataset\n",
    "\n",
    "ds = []\n",
    "with open('data/train.jsonl', 'r') as f:\n",
    "    for line in f:\n",
    "        ds.append(json.loads(line))\n",
    "\n",
    "# реформатирование датасета чтобы было удобнее работать\n",
    "\n",
    "def format_dataset(example):\n",
    "    context = example['passage']['text']\n",
    "    context = re.sub(r'\\(\\d+\\)', '', context) # remove (1), (2), etc.\n",
    "    questions = [q['question'] for q in example['passage']['questions']]\n",
    "    answers = []\n",
    "    labels = []\n",
    "    for q in example['passage']['questions']:\n",
    "        answers.append([])\n",
    "        labels.append([])\n",
    "        for a in q['answers']:\n",
    "            answers[-1].append(a['text'])\n",
    "            labels[-1].append(a['label'])\n",
    "    assert len(questions) == len(answers)\n",
    "    list_of_data = []\n",
    "    for i in range(len(questions)):\n",
    "        list_of_data.append({\n",
    "            'context': context,\n",
    "            'question': questions[i], \n",
    "            'answers': answers[i], \n",
    "            'labels': labels[i]\n",
    "        })\n",
    "    return list_of_data\n",
    "\n",
    "new_ds = []\n",
    "for example in ds:\n",
    "    new_ds.extend(format_dataset(example))\n",
    "\n",
    "new_ds[0]"
   ]
  },
  {
   "cell_type": "markdown",
   "metadata": {},
   "source": [
    "# Эксплораторный анализ датасета"
   ]
  },
  {
   "cell_type": "markdown",
   "metadata": {},
   "source": [
    "Датасет представлен в виде файла jsonl, в котором каждая строка представляет собой json объект. Внутри находится текст документа, вопросы по этому документу, а также варианты ответа к каждому вопросу с указанием правильного/ых ответа/ов. Правильных ответов может быть несколько."
   ]
  },
  {
   "cell_type": "code",
   "execution_count": 6,
   "metadata": {},
   "outputs": [
    {
     "data": {
      "text/plain": [
       "count    500.000000\n",
       "mean     192.510000\n",
       "std       48.420233\n",
       "min       97.000000\n",
       "25%      166.750000\n",
       "50%      186.500000\n",
       "75%      201.000000\n",
       "max      513.000000\n",
       "dtype: float64"
      ]
     },
     "execution_count": 6,
     "metadata": {},
     "output_type": "execute_result"
    }
   ],
   "source": [
    "# статистика по длине контекста\n",
    "\n",
    "context_lengths = []\n",
    "\n",
    "for example in ds:\n",
    "    context = example['passage']['text']\n",
    "    context = re.sub(r'\\(\\d+\\)', '', context)\n",
    "    context_lengths.append(len(context.split()))\n",
    "\n",
    "pd.Series(context_lengths).describe()"
   ]
  },
  {
   "cell_type": "markdown",
   "metadata": {},
   "source": [
    "Статистика по вопросам:"
   ]
  },
  {
   "cell_type": "code",
   "execution_count": null,
   "metadata": {},
   "outputs": [],
   "source": [
    "# статистика по длине вопросов\n",
    "\n",
    "question_lengths = [len(example['question'].split()) for example in new_ds]\n",
    "pd.Series(question_lengths).describe()"
   ]
  },
  {
   "cell_type": "markdown",
   "metadata": {},
   "source": [
    "Можно увидеть, что текст документа сильно отличается по длине. Минимальная длина - 97 слов, средняя - 192, максимальная - 513 слов.  \n",
    "\n",
    "У вопросов ситуация такая: Минимальная длина - 2 слова, средняя - 8, максимальная - 27 слов."
   ]
  },
  {
   "cell_type": "code",
   "execution_count": 7,
   "metadata": {},
   "outputs": [
    {
     "data": {
      "text/plain": [
       "count    2897.000000\n",
       "mean        4.124957\n",
       "std         1.036417\n",
       "min         2.000000\n",
       "25%         4.000000\n",
       "50%         4.000000\n",
       "75%         5.000000\n",
       "max        12.000000\n",
       "dtype: float64"
      ]
     },
     "execution_count": 7,
     "metadata": {},
     "output_type": "execute_result"
    }
   ],
   "source": [
    "# статистика по количеству ответов на вопрос в тренировочном датасете\n",
    "\n",
    "answers_count = [len(example['answers']) for example in new_ds]\n",
    "pd.Series(answers_count).describe()"
   ]
  },
  {
   "cell_type": "code",
   "execution_count": 8,
   "metadata": {},
   "outputs": [
    {
     "data": {
      "text/plain": [
       "(array([ 387.,  140., 1142., 1200.,   20.,    3.,    3.,    0.,    0.,\n",
       "           2.]),\n",
       " array([ 2.,  3.,  4.,  5.,  6.,  7.,  8.,  9., 10., 11., 12.]),\n",
       " <BarContainer object of 10 artists>)"
      ]
     },
     "execution_count": 8,
     "metadata": {},
     "output_type": "execute_result"
    },
    {
     "data": {
      "image/png": "[encoded data removed]",
      "text/plain": [
       "<Figure size 640x480 with 1 Axes>"
      ]
     },
     "metadata": {},
     "output_type": "display_data"
    }
   ],
   "source": [
    "# гистограмма распределения количества ответов на вопрос\n",
    "\n",
    "plt.hist(answers_count)"
   ]
  },
  {
   "cell_type": "markdown",
   "metadata": {},
   "source": [
    "Можно увидеть по гистограмме выше, что в датасете присутствует разброс по количеству ответов на вопрос. В среднем на вопрос приходится 4 ответа. Минимально 2 ответа, максимально 12 ответов."
   ]
  },
  {
   "cell_type": "code",
   "execution_count": 9,
   "metadata": {},
   "outputs": [
    {
     "data": {
      "text/plain": [
       "count    2897.000000\n",
       "mean        1.857784\n",
       "std         0.458727\n",
       "min         1.000000\n",
       "25%         2.000000\n",
       "50%         2.000000\n",
       "75%         2.000000\n",
       "max         7.000000\n",
       "dtype: float64"
      ]
     },
     "execution_count": 9,
     "metadata": {},
     "output_type": "execute_result"
    }
   ],
   "source": [
    "# статистика по количеству правильных ответов на вопрос в тренировочном датасете\n",
    "\n",
    "labels_count = [sum(example['labels']) for example in new_ds]\n",
    "pd.Series(labels_count).describe()"
   ]
  },
  {
   "cell_type": "code",
   "execution_count": 10,
   "metadata": {},
   "outputs": [
    {
     "data": {
      "text/plain": [
       "(array([0.000e+00, 5.100e+02, 2.312e+03, 5.600e+01, 1.700e+01, 1.000e+00,\n",
       "        0.000e+00, 1.000e+00, 0.000e+00]),\n",
       " array([0., 1., 2., 3., 4., 5., 6., 7., 8., 9.]),\n",
       " <BarContainer object of 9 artists>)"
      ]
     },
     "execution_count": 10,
     "metadata": {},
     "output_type": "execute_result"
    },
    {
     "data": {
      "image/png": "[encoded data removed]",
      "text/plain": [
       "<Figure size 640x480 with 1 Axes>"
      ]
     },
     "metadata": {},
     "output_type": "display_data"
    }
   ],
   "source": [
    "# гистограмма распределения количества правильных ответов на вопрос\n",
    "\n",
    "plt.hist(labels_count, bins=range(0, 10))"
   ]
  },
  {
   "cell_type": "markdown",
   "metadata": {},
   "source": [
    "Получается, что в датасете присутствуют вопросы с одним правильным ответом, а также вопросы с несколькими правильными ответами (их большинство). \n",
    "\n",
    "Оставим в датасете только вопросы с количеством ответов не превышающим 6. Тк вопросы с количеством ответов больше 6 составляют очень малую часть от общего количества вопросов, то их можно считать выбросами."
   ]
  },
  {
   "cell_type": "code",
   "execution_count": 11,
   "metadata": {},
   "outputs": [
    {
     "data": {
      "text/plain": [
       "2889"
      ]
     },
     "execution_count": 11,
     "metadata": {},
     "output_type": "execute_result"
    }
   ],
   "source": [
    "new_new_ds = []\n",
    "\n",
    "for example in new_ds:\n",
    "    if len(example['labels']) <= 6:\n",
    "        new_new_ds.append(example)\n",
    "\n",
    "len(new_new_ds)"
   ]
  }
 ],
 "metadata": {
  "kernelspec": {
   "display_name": "base",
   "language": "python",
   "name": "python3"
  },
  "language_info": {
   "codemirror_mode": {
    "name": "ipython",
    "version": 3
   },
   "file_extension": ".py",
   "mimetype": "text/x-python",
   "name": "python",
   "nbconvert_exporter": "python",
   "pygments_lexer": "ipython3",
   "version": "3.11.5"
  }
 },
 "nbformat": 4,
 "nbformat_minor": 2
}
